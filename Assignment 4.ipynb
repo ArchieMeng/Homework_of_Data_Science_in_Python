{
 "cells": [
  {
   "cell_type": "markdown",
   "metadata": {},
   "source": [
    "---\n",
    "\n",
    "_You are currently looking at **version 1.1** of this notebook. To download notebooks and datafiles, as well as get help on Jupyter notebooks in the Coursera platform, visit the [Jupyter Notebook FAQ](https://www.coursera.org/learn/python-data-analysis/resources/0dhYG) course resource._\n",
    "\n",
    "---"
   ]
  },
  {
   "cell_type": "code",
   "execution_count": 1,
   "metadata": {
    "collapsed": false
   },
   "outputs": [],
   "source": [
    "import pandas as pd\n",
    "import numpy as np\n",
    "from scipy.stats import ttest_ind\n",
    "\n",
    "def get_gdp_df():\n",
    "    gdp_df = pd.read_excel('gdplev.xls', parse_cols=[4,6], header=5)\n",
    "    gdp_df = gdp_df.iloc[214:]\n",
    "    return gdp_df"
   ]
  },
  {
   "cell_type": "markdown",
   "metadata": {},
   "source": [
    "# Assignment 4 - Hypothesis Testing\n",
    "This assignment requires more individual learning than previous assignments - you are encouraged to check out the [pandas documentation](http://pandas.pydata.org/pandas-docs/stable/) to find functions or methods you might not have used yet, or ask questions on [Stack Overflow](http://stackoverflow.com/) and tag them as pandas and python related. And of course, the discussion forums are open for interaction with your peers and the course staff.\n",
    "\n",
    "Definitions:\n",
    "* A _quarter_ is a specific three month period, Q1 is January through March, Q2 is April through June, Q3 is July through September, Q4 is October through December.\n",
    "* A _recession_ is defined as starting with two consecutive quarters of GDP decline, and ending with two consecutive quarters of GDP growth.\n",
    "* A _recession bottom_ is the quarter within a recession which had the lowest GDP.\n",
    "* A _university town_ is a city which has a high percentage of university students compared to the total population of the city.\n",
    "\n",
    "**Hypothesis**: University towns have their mean housing prices less effected by recessions. Run a t-test to compare the ratio of the mean price of houses in university towns the quarter before the recession starts compared to the recession bottom. (`price_ratio=quarter_before_recession/recession_bottom`)\n",
    "\n",
    "The following data files are available for this assignment:\n",
    "* From the [Zillow research data site](http://www.zillow.com/research/data/) there is housing data for the United States. In particular the datafile for [all homes at a city level](http://files.zillowstatic.com/research/public/City/City_Zhvi_AllHomes.csv), ```City_Zhvi_AllHomes.csv```, has median home sale prices at a fine grained level.\n",
    "* From the Wikipedia page on college towns is a list of [university towns in the United States](https://en.wikipedia.org/wiki/List_of_college_towns#College_towns_in_the_United_States) which has been copy and pasted into the file ```university_towns.txt```.\n",
    "* From Bureau of Economic Analysis, US Department of Commerce, the [GDP over time](http://www.bea.gov/national/index.htm#gdp) of the United States in current dollars (use the chained value in 2009 dollars), in quarterly intervals, in the file ```gdplev.xls```. For this assignment, only look at GDP data from the first quarter of 2000 onward.\n",
    "\n",
    "Each function in this assignment below is worth 10%, with the exception of ```run_ttest()```, which is worth 50%."
   ]
  },
  {
   "cell_type": "code",
   "execution_count": 2,
   "metadata": {
    "collapsed": false
   },
   "outputs": [],
   "source": [
    "# Use this dictionary to map state names to two letter acronyms\n",
    "states = {'OH': 'Ohio', 'KY': 'Kentucky', 'AS': 'American Samoa', 'NV': 'Nevada', 'WY': 'Wyoming', 'NA': 'National', 'AL': 'Alabama', 'MD': 'Maryland', 'AK': 'Alaska', 'UT': 'Utah', 'OR': 'Oregon', 'MT': 'Montana', 'IL': 'Illinois', 'TN': 'Tennessee', 'DC': 'District of Columbia', 'VT': 'Vermont', 'ID': 'Idaho', 'AR': 'Arkansas', 'ME': 'Maine', 'WA': 'Washington', 'HI': 'Hawaii', 'WI': 'Wisconsin', 'MI': 'Michigan', 'IN': 'Indiana', 'NJ': 'New Jersey', 'AZ': 'Arizona', 'GU': 'Guam', 'MS': 'Mississippi', 'PR': 'Puerto Rico', 'NC': 'North Carolina', 'TX': 'Texas', 'SD': 'South Dakota', 'MP': 'Northern Mariana Islands', 'IA': 'Iowa', 'MO': 'Missouri', 'CT': 'Connecticut', 'WV': 'West Virginia', 'SC': 'South Carolina', 'LA': 'Louisiana', 'KS': 'Kansas', 'NY': 'New York', 'NE': 'Nebraska', 'OK': 'Oklahoma', 'FL': 'Florida', 'CA': 'California', 'CO': 'Colorado', 'PA': 'Pennsylvania', 'DE': 'Delaware', 'NM': 'New Mexico', 'RI': 'Rhode Island', 'MN': 'Minnesota', 'VI': 'Virgin Islands', 'NH': 'New Hampshire', 'MA': 'Massachusetts', 'GA': 'Georgia', 'ND': 'North Dakota', 'VA': 'Virginia'}\n",
    "def get_house_price():\n",
    "    house_df = pd.read_csv('City_Zhvi_AllHomes.csv')\n",
    "    house_df = house_df.replace(to_replace=states)\n",
    "    house_df = house_df.set_index([\"State\",\"RegionName\"])\n",
    "    return house_df"
   ]
  },
  {
   "cell_type": "code",
   "execution_count": 3,
   "metadata": {
    "collapsed": false
   },
   "outputs": [],
   "source": [
    "def get_list_of_university_towns():\n",
    "    '''Returns a DataFrame of towns and the states they are in from the \n",
    "    university_towns.txt list. The format of the DataFrame should be:\n",
    "    DataFrame( [ [\"Michigan\", \"Ann Arbor\"], [\"Michigan\", \"Yipsilanti\"] ], \n",
    "    columns=[\"State\", \"RegionName\"]  )\n",
    "    \n",
    "    The following cleaning needs to be done:\n",
    "\n",
    "    1. For \"State\", removing characters from \"[\" to the end.\n",
    "    2. For \"RegionName\", when applicable, removing every character from \" (\" to the end.\n",
    "    3. Depending on how you read the data, you may need to remove newline character '\\n'. '''\n",
    "    ut_list = []\n",
    "    with open(\"university_towns.txt\",'r') as uttxt:\n",
    "        for line in uttxt:\n",
    "            if '[edit]' in line:\n",
    "                state_name = line[:line.find('[edit]')]\n",
    "            elif ' (' in line:\n",
    "                region_name = line[:line.find(' (')]\n",
    "                if ',' in line:\n",
    "                    region_name = region_name[region_name.find(\", \") + 1:]\n",
    "                ut_list.append((state_name, region_name))\n",
    "            elif ',' in line:\n",
    "                ut_list.append((state_name, line[line.find(', ') + 1:]))\n",
    "    ut_df = pd.DataFrame(data=ut_list, columns=[\"State\", \"RegionName\"])\n",
    "    return ut_df"
   ]
  },
  {
   "cell_type": "code",
   "execution_count": 4,
   "metadata": {
    "collapsed": false
   },
   "outputs": [],
   "source": [
    "def get_recession_start():\n",
    "    '''Returns the year and quarter of the recession start time as a \n",
    "    string value in a format such as 2005q3'''\n",
    "    df = get_gdp_df()\n",
    "    for first_index in range(len(df)-2):\n",
    "        if df.iloc[first_index, 0] > df.iloc[first_index + 1, 0] \\\n",
    "        and df.iloc[first_index + 1, 0] > df.iloc[first_index + 2, 0]:\n",
    "            return df.index[first_index + 1]"
   ]
  },
  {
   "cell_type": "code",
   "execution_count": 5,
   "metadata": {
    "collapsed": false
   },
   "outputs": [],
   "source": [
    "def get_recession_end():\n",
    "    '''Returns the year and quarter of the recession end time as a \n",
    "    string value in a format such as 2005q3'''\n",
    "    df = get_gdp_df()\n",
    "    start_quarter = get_recession_start()\n",
    "    start_index = df.index.get_loc(start_quarter)\n",
    "    for first_index in range(start_index + 1, len(df) - 2):\n",
    "        if df.iloc[first_index, 0] < df.iloc[first_index + 1, 0]\\\n",
    "        and df.iloc[first_index + 1, 0] < df.iloc[first_index + 2, 0]:\n",
    "            return df.index[first_index + 2]"
   ]
  },
  {
   "cell_type": "code",
   "execution_count": 6,
   "metadata": {
    "collapsed": false
   },
   "outputs": [],
   "source": [
    "def get_recession_bottom():\n",
    "    '''Returns the year and quarter of the recession bottom time as a \n",
    "    string value in a format such as 2005q3'''\n",
    "    df = get_gdp_df()\n",
    "    start_quarter = get_recession_start()\n",
    "    start_index = df.index.get_loc(start_quarter)\n",
    "    end_quarter = get_recession_end()\n",
    "    end_index = df.index.get_loc(end_quarter)\n",
    "    min_gdp = df.iloc[start_index, 0]\n",
    "    min_idx = start_index\n",
    "    for idx in range(start_index + 1, end_index + 1):\n",
    "        if df.iloc[idx, 0] < min_gdp:\n",
    "            min_gdp = df.iloc[idx, 0]\n",
    "            min_idx = idx\n",
    "    return df.index[min_idx]"
   ]
  },
  {
   "cell_type": "code",
   "execution_count": 7,
   "metadata": {
    "collapsed": false,
    "scrolled": true
   },
   "outputs": [],
   "source": [
    "def convert_housing_data_to_quarters():\n",
    "    '''Converts the housing data to quarters and returns it as mean \n",
    "    values in a dataframe. This dataframe should be a dataframe with\n",
    "    columns for 2000q1 through 2016q3, and should have a multi-index\n",
    "    in the shape of [\"State\",\"RegionName\"].\n",
    "    \n",
    "    Note: Quarters are defined in the assignment description, they are\n",
    "    not arbitrary three month periods.\n",
    "    \n",
    "    The resulting dataframe should have 67 columns, and 10,730 rows.\n",
    "    '''\n",
    "    col_essential = ['{}-{:0>2}'.format(year, month)\n",
    "                        for year in range(2000, 2017)\n",
    "                        for month in range(1, 13) \n",
    "                        if year < 2016 or month <= 8\n",
    "                    ]\n",
    "    house_df = get_house_price()\n",
    "    house_df = house_df[col_essential]\n",
    "    for year in range(2000,2017):\n",
    "        for q in range(1,5):\n",
    "            if year == 2016 and q > 2:\n",
    "                continue\n",
    "            q_col = ['{}-{:0>2}'.format(year, month)\n",
    "                     for month in range(3 * q - 2 , 3 * q + 1)]\n",
    "            house_df['{}q{}'.format(year, q)] = house_df[q_col].apply(func=np.mean, axis=1)\n",
    "    q = ['{}q{}'.format(year, q) \n",
    "         for year in range(2000,2017) \n",
    "         for q in range(1,5)\n",
    "         if year < 2016 or q <= 3\n",
    "        ]\n",
    "    house_df['2016q3'] = np.NaN\n",
    "    return house_df[q]"
   ]
  },
  {
   "cell_type": "code",
   "execution_count": 8,
   "metadata": {
    "collapsed": false
   },
   "outputs": [],
   "source": [
    "def run_ttest():\n",
    "    '''First creates new data showing the decline or growth of housing prices\n",
    "    between the recession start and the recession bottom. Then runs a ttest\n",
    "    comparing the university town values to the non-university towns values, \n",
    "    return whether the alternative hypothesis (that the two groups are the same)\n",
    "    is true or not as well as the p-value of the confidence. \n",
    "    \n",
    "    Return the tuple (different, p, better) where different=True if the t-test is\n",
    "    True at a p<0.01 (we reject the null hypothesis), or different=False if \n",
    "    otherwise (we cannot reject the null hypothesis). The variable p should\n",
    "    be equal to the exact p value returned from scipy.stats.ttest_ind(). The\n",
    "    value for better should be either \"university town\" or \"non-university town\"\n",
    "    depending on which has a lower mean price ratio (which is equivilent to a\n",
    "    reduced market loss).'''\n",
    "    ut_df = get_list_of_university_towns()\n",
    "    ut_region = list(zip(*ut_df['RegionName'].iteritems()))[1]\n",
    "    hq_df = convert_housing_data_to_quarters()\n",
    "    h_df = hq_df.reset_index()\n",
    "    \n",
    "    sta_q = get_recession_start()\n",
    "    bottom_q = get_recession_bottom()\n",
    "    before_mean = h_df[sta_q]\n",
    "    bottom_mean = h_df[bottom_q]\n",
    "    ratio = before_mean / bottom_mean\n",
    "    \n",
    "    ut_house_df = ratio[h_df.apply(axis=1, func=lambda x: x[\"RegionName\"] in ut_region)]\n",
    "    not_ut_house_df = ratio[h_df.apply(axis=1, func=lambda x: x[\"RegionName\"] not in ut_region)]\n",
    "    t_value, p = ttest_ind(a=ut_house_df[np.isfinite(ut_house_df)],\n",
    "                           b=not_ut_house_df[np.isfinite(not_ut_house_df)]\n",
    "                            )\n",
    "    different = p < 0.01 or p > 0.99\n",
    "    better = \"university town\" if t_value < 0 else \"non-university town\"\n",
    "    return (different, p, better)"
   ]
  },
  {
   "cell_type": "code",
   "execution_count": 11,
   "metadata": {
    "collapsed": false
   },
   "outputs": [
    {
     "name": "stdout",
     "output_type": "stream",
     "text": [
      "3.0463308693915847 0.00232260827224\n"
     ]
    }
   ],
   "source": [
    "ut_df = get_list_of_university_towns()\n",
    "ut_region = list(zip(*ut_df['RegionName'].iteritems()))[1]\n",
    "hq_df = convert_housing_data_to_quarters()\n",
    "h_df = hq_df.reset_index()\n",
    "end_q = get_recession_end()\n",
    "bottom_q = get_recession_bottom()\n",
    "end_mean = h_df[end_q]\n",
    "bottom_mean = h_df[bottom_q]\n",
    "ratio = end_mean / bottom_mean\n",
    "\n",
    "ut_house_df = ratio[h_df.apply(axis=1, func=lambda x: x[\"RegionName\"] in ut_region)]\n",
    "not_ut_house_df = ratio[h_df.apply(axis=1, func=lambda x: x[\"RegionName\"] not in ut_region)]\n",
    "t_value, p = ttest_ind(a=ut_house_df[np.isfinite(ut_house_df)],\n",
    "                       b=not_ut_house_df[np.isfinite(not_ut_house_df)]\n",
    "                        )\n",
    "print(t_value, p)"
   ]
  },
  {
   "cell_type": "code",
   "execution_count": 14,
   "metadata": {
    "collapsed": false
   },
   "outputs": [
    {
     "name": "stdout",
     "output_type": "stream",
     "text": [
      "0.975999766873\n"
     ]
    }
   ],
   "source": [
    "print(np.mean(not_ut_house_df))"
   ]
  },
  {
   "cell_type": "code",
   "execution_count": null,
   "metadata": {
    "collapsed": true
   },
   "outputs": [],
   "source": []
  }
 ],
 "metadata": {
  "coursera": {
   "course_slug": "python-data-analysis",
   "graded_item_id": "Il9Fx",
   "launcher_item_id": "TeDW0",
   "part_id": "WGlun"
  },
  "kernelspec": {
   "display_name": "Python 3",
   "language": "python",
   "name": "python3"
  },
  "language_info": {
   "codemirror_mode": {
    "name": "ipython",
    "version": 3
   },
   "file_extension": ".py",
   "mimetype": "text/x-python",
   "name": "python",
   "nbconvert_exporter": "python",
   "pygments_lexer": "ipython3",
   "version": "3.4.3"
  }
 },
 "nbformat": 4,
 "nbformat_minor": 0
}
